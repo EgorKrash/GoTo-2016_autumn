{
 "cells": [
  {
   "cell_type": "code",
   "execution_count": 1,
   "metadata": {
    "collapsed": false
   },
   "outputs": [
    {
     "name": "stderr",
     "output_type": "stream",
     "text": [
      "C:\\Users\\Piboditheowl\\Anaconda2\\lib\\site-packages\\gensim\\utils.py:840: UserWarning: detected Windows; aliasing chunkize to chunkize_serial\n",
      "  warnings.warn(\"detected Windows; aliasing chunkize to chunkize_serial\")\n",
      "C:\\Users\\Piboditheowl\\Anaconda2\\lib\\site-packages\\gensim\\utils.py:1015: UserWarning: Pattern library is not installed, lemmatization won't be available.\n",
      "  warnings.warn(\"Pattern library is not installed, lemmatization won't be available.\")\n"
     ]
    }
   ],
   "source": [
    "from smart_open import smart_open\n",
    "import pandas as pd\n",
    "import numpy as np\n",
    "import gensim\n",
    "import nltk\n",
    "from sklearn.cross_validation import train_test_split\n",
    "from sklearn import linear_model\n",
    "from sklearn.feature_extraction.text import CountVectorizer, TfidfVectorizer\n",
    "from sklearn.metrics import accuracy_score, confusion_matrix\n",
    "import matplotlib.pyplot as plt\n",
    "from gensim.models import Word2Vec\n",
    "from sklearn.neighbors import KNeighborsClassifier\n",
    "from sklearn import linear_model\n",
    "import logging\n",
    "%matplotlib inline\n",
    "from itertools import islice\n",
    "from gensim.models import Doc2Vec\n",
    "from gensim.models.doc2vec import TaggedDocument\n",
    "logging.root.handlers = []  # Jupyter messes up logging so needs a reset\n",
    "logging.basicConfig(format='%(asctime)s : %(levelname)s : %(message)s', level=logging.INFO)"
   ]
  },
  {
   "cell_type": "code",
   "execution_count": 2,
   "metadata": {
    "collapsed": false,
    "scrolled": true
   },
   "outputs": [
    {
     "name": "stderr",
     "output_type": "stream",
     "text": [
      "2016-11-03 16:29:07,569 : INFO : loading projection weights from GoogleNews-vectors-negative300.bin.gz\n",
      "2016-11-03 16:31:00,035 : INFO : loaded (3000000L, 300L) matrix from GoogleNews-vectors-negative300.bin.gz\n",
      "2016-11-03 16:31:00,036 : INFO : precomputing L2-norms of word weight vectors\n"
     ]
    },
    {
     "name": "stdout",
     "output_type": "stream",
     "text": [
      "Wall time: 2min 7s\n"
     ]
    }
   ],
   "source": [
    "%%time \n",
    "wv = Word2Vec.load_word2vec_format(\n",
    "    \"GoogleNews-vectors-negative300.bin.gz\",\n",
    "    binary=True)\n",
    "wv.init_sims(replace=True)"
   ]
  },
  {
   "cell_type": "markdown",
   "metadata": {},
   "source": [
    "### Функции для обработки данных"
   ]
  },
  {
   "cell_type": "code",
   "execution_count": 3,
   "metadata": {
    "collapsed": true
   },
   "outputs": [],
   "source": [
    "def tokenize_text(text): #токенизируем текст\n",
    "    tokens = []\n",
    "    for sent in nltk.sent_tokenize(text):\n",
    "        for word in nltk.word_tokenize(sent):\n",
    "            if len(word) < 2:\n",
    "                continue\n",
    "            tokens.append(word.lower())\n",
    "    return tokens"
   ]
  },
  {
   "cell_type": "code",
   "execution_count": 4,
   "metadata": {
    "collapsed": true
   },
   "outputs": [],
   "source": [
    "def clean_df(df, x=1, y=15): \n",
    "    #Чистим изначальный массив, берем определенное количество спикеров, по частоте их выступлений\n",
    "    \n",
    "    ind = df.Speaker.value_counts()[x:y].index # берем имена спикеров\n",
    "        \n",
    "    new_df=df[df.Speaker==ind[0]] # первый элемент дата фрейма \n",
    "    for i in range(1,len(ind)): # проходим по остальным элементам\n",
    "        new_df=pd.concat([new_df,df[df.Speaker==ind[i]]]) # добавляем последующие подмассивы в основной\n",
    "\n",
    "    return new_df # выводим"
   ]
  },
  {
   "cell_type": "markdown",
   "metadata": {},
   "source": [
    "### Считываем и чистим данные"
   ]
  },
  {
   "cell_type": "code",
   "execution_count": 5,
   "metadata": {
    "collapsed": true
   },
   "outputs": [],
   "source": [
    "data = pd.read_csv('primary_debates_cleaned.csv') #считываем текст\n",
    "df = clean_df(data) #чистим\n",
    "train_data, test_data = train_test_split(df, test_size=0.1, random_state=42) #разбиваем на выборки"
   ]
  },
  {
   "cell_type": "code",
   "execution_count": 382,
   "metadata": {
    "collapsed": false
   },
   "outputs": [],
   "source": [
    "ramil = pd.read_csv(\"ramil.csv\",sep=';') # как независисый приме возmvмем ряд текстов независимых"
   ]
  },
  {
   "cell_type": "markdown",
   "metadata": {},
   "source": [
    "### Токенизируем"
   ]
  },
  {
   "cell_type": "code",
   "execution_count": 302,
   "metadata": {
    "collapsed": false
   },
   "outputs": [],
   "source": [
    "train_tagged = train_data.apply(lambda r: TaggedDocument(words=tokenize_text(r['Text']), tags=[r.Speaker]), axis=1) #токенизируем+ставим тэг на каждый текст по спикеру\n",
    "test_tagged = test_data.apply(lambda r: TaggedDocument(words=tokenize_text(r['Text']), tags=[r.Speaker]), axis=1) #токенизируем+ ставим тэг на каждый текст по спикеру"
   ]
  },
  {
   "cell_type": "code",
   "execution_count": 383,
   "metadata": {
    "collapsed": false
   },
   "outputs": [],
   "source": [
    "tokramil = ramil.apply(lambda r: TaggedDocument(words=tokenize_text(r['Text']), tags=[r.Unknown]), axis=1)"
   ]
  },
  {
   "cell_type": "code",
   "execution_count": 304,
   "metadata": {
    "collapsed": true
   },
   "outputs": [],
   "source": [
    "trainsent = train_tagged.values # сохраняем значения текст разбитый на слова и спикера\n",
    "testsent = test_tagged.values # сохраняем значения текст разбитый на слова и спикера"
   ]
  },
  {
   "cell_type": "code",
   "execution_count": 385,
   "metadata": {
    "collapsed": false
   },
   "outputs": [],
   "source": [
    "ramilsent = tokramil.values"
   ]
  },
  {
   "cell_type": "markdown",
   "metadata": {},
   "source": [
    "### Тренируем модель"
   ]
  },
  {
   "cell_type": "code",
   "execution_count": 352,
   "metadata": {
    "collapsed": false
   },
   "outputs": [
    {
     "name": "stderr",
     "output_type": "stream",
     "text": [
      "2016-11-03 17:55:00,841 : WARNING : consider setting layer size to a multiple of 4 for greater performance\n",
      "2016-11-03 17:55:00,841 : INFO : collecting all words and their counts\n",
      "2016-11-03 17:55:00,841 : INFO : PROGRESS: at example #0, processed 0 words (0/s), 0 word types, 0 tags\n",
      "2016-11-03 17:55:00,917 : INFO : collected 9466 word types and 14 unique tags from a corpus of 5691 examples and 266029 words\n",
      "2016-11-03 17:55:00,917 : INFO : Loading a fresh vocabulary\n",
      "2016-11-03 17:55:00,928 : INFO : min_count=5 retains 3238 unique words (34% of original 9466, drops 6228)\n",
      "2016-11-03 17:55:00,933 : INFO : min_count=5 leaves 255279 word corpus (95% of original 266029, drops 10750)\n",
      "2016-11-03 17:55:00,944 : INFO : deleting the raw counts dictionary of 9466 items\n",
      "2016-11-03 17:55:00,944 : INFO : sample=0 downsamples 0 most-common words\n",
      "2016-11-03 17:55:00,948 : INFO : downsampling leaves estimated 255279 word corpus (100.0% of prior 255279)\n",
      "2016-11-03 17:55:00,948 : INFO : estimated required memory for 3238 words and 150 dimensions: 6163400 bytes\n",
      "2016-11-03 17:55:00,953 : INFO : constructing a huffman tree from 3238 words\n",
      "2016-11-03 17:55:01,040 : INFO : built huffman tree with maximum node depth 16\n",
      "2016-11-03 17:55:01,040 : INFO : resetting layer weights\n",
      "2016-11-03 17:55:01,096 : INFO : training model with 4 workers on 3238 vocabulary and 150 features, using sg=0 hs=1 sample=0 negative=0 window=8\n",
      "2016-11-03 17:55:01,096 : INFO : expecting 5691 sentences, matching count from corpus used for vocabulary survey\n",
      "2016-11-03 17:55:02,101 : INFO : PROGRESS: at 30.23% examples, 783392 words/s, in_qsize 8, out_qsize 0\n",
      "2016-11-03 17:55:03,118 : INFO : PROGRESS: at 61.64% examples, 797169 words/s, in_qsize 8, out_qsize 0\n",
      "2016-11-03 17:55:04,119 : INFO : PROGRESS: at 92.59% examples, 799612 words/s, in_qsize 8, out_qsize 0\n",
      "2016-11-03 17:55:04,345 : INFO : worker thread finished; awaiting finish of 3 more threads\n",
      "2016-11-03 17:55:04,365 : INFO : worker thread finished; awaiting finish of 2 more threads\n",
      "2016-11-03 17:55:04,365 : INFO : worker thread finished; awaiting finish of 1 more threads\n",
      "2016-11-03 17:55:04,368 : INFO : worker thread finished; awaiting finish of 0 more threads\n",
      "2016-11-03 17:55:04,368 : INFO : training on 2660290 raw words (2609700 effective words) took 3.3s, 798704 effective words/s\n"
     ]
    }
   ],
   "source": [
    "doc2vec_model = Doc2Vec(trainsent, workers=4, size=150, iter=10, dm=1) #обучаем модель кличество слов итераций и тп\n"
   ]
  },
  {
   "cell_type": "markdown",
   "metadata": {},
   "source": [
    "### Превращаем все в вектора согласно весам модели"
   ]
  },
  {
   "cell_type": "code",
   "execution_count": 374,
   "metadata": {
    "collapsed": true
   },
   "outputs": [],
   "source": [
    "train_targets, train_regressors = zip(                                                \n",
    "    *[(doc.tags[0], doc2vec_model.infer_vector(doc.words, steps=5)) for doc in trainsent]) #векторизуем\n",
    "test_targets, test_regressors = zip(\n",
    "    *[(doc.tags[0], doc2vec_model.infer_vector(doc.words, steps=5)) for doc in testsent])"
   ]
  },
  {
   "cell_type": "code",
   "execution_count": 409,
   "metadata": {
    "collapsed": false,
    "scrolled": true
   },
   "outputs": [],
   "source": [
    "ram_targets, ram_regressors = zip(\n",
    "    *[(doc.tags[0], doc2vec_model.infer_vector(doc.words, steps=5)) for doc in ramilsent])"
   ]
  },
  {
   "cell_type": "markdown",
   "metadata": {},
   "source": [
    "### Описываем функцию оценки"
   ]
  },
  {
   "cell_type": "code",
   "execution_count": 356,
   "metadata": {
    "collapsed": true
   },
   "outputs": [],
   "source": [
    "def evaluate_prediction(predictions, target, title=\"Confusion matrix\"):\n",
    "    print('accuracy %s' % accuracy_score(target, predictions))\n",
    "    cm = confusion_matrix(target, predictions)\n",
    "    print('confusion matrix\\n %s' % cm)\n",
    "    print('(row=expected, col=predicted)')\n",
    "    \n",
    "    cm_normalized = cm.astype('float') / cm.sum(axis=1)[:, np.newaxis]\n",
    "    plot_confusion_matrix(cm_normalized, title + ' Normalized')"
   ]
  },
  {
   "cell_type": "markdown",
   "metadata": {},
   "source": [
    "### Визуализируем"
   ]
  },
  {
   "cell_type": "code",
   "execution_count": 357,
   "metadata": {
    "collapsed": false
   },
   "outputs": [],
   "source": [
    "from sklearn.metrics import accuracy_score, confusion_matrix\n",
    "def plot_confusion_matrix(cm, title='Confusion matrix', cmap=\"cool\"):\n",
    "    \n",
    "    plt.figure(figsize=(8,8))\n",
    "    plt.imshow(cm, interpolation='nearest', cmap=cmap)\n",
    "    plt.title(title)\n",
    "    plt.colorbar()\n",
    "    tick_marks = np.arange(len(my_tags))\n",
    "    target_names = my_tags\n",
    "    plt.xticks(tick_marks, target_names, rotation=45)\n",
    "    plt.yticks(tick_marks, target_names)\n",
    "    plt.tight_layout()\n",
    "    plt.ylabel('True label')\n",
    "    plt.xlabel('Predicted label')\n"
   ]
  },
  {
   "cell_type": "code",
   "execution_count": 406,
   "metadata": {
    "collapsed": true
   },
   "outputs": [],
   "source": [
    "logreg = linear_model.LogisticRegression(n_jobs=20, C=1e5) ### определяем регрессию\n"
   ]
  },
  {
   "cell_type": "code",
   "execution_count": 407,
   "metadata": {
    "collapsed": false
   },
   "outputs": [
    {
     "name": "stdout",
     "output_type": "stream",
     "text": [
      "accuracy 0.529225908373\n",
      "confusion matrix\n",
      " [[ 5  4  1  0  3  4  1  0  0  0  4  2  2  1]\n",
      " [ 0 23  0  0  0  3  0  0  0  0  0  1  9  0]\n",
      " [ 0  0 10  0  0  1  1  1  1  0  3  0  0  3]\n",
      " [ 0  0  0 32  0  0  0  0  0  0  0  0  0  0]\n",
      " [ 1  0  3  0 34  0  0  2  0  2  6 11  2  9]\n",
      " [ 1  5  0  0  0 10  0  0  1  0  1  1  7  1]\n",
      " [ 1  1  0  0  5  0 21  2  0  0  2  5  0  7]\n",
      " [ 0  2  3  0  4  0  3 11  1  0  3  1  1  5]\n",
      " [ 0  7  2  0  1  1  1  0  3  0  1  1  2  4]\n",
      " [ 0  0  0  0  0  0  0  0  0 40  0  0  0  0]\n",
      " [ 0  0  2  0  6  0 13  1  2  0 15  3  1 11]\n",
      " [ 1  1  3  0  6  2  6  1  0  0  1 51  1 13]\n",
      " [ 1  7  0  0  0  2  4  0  2  0  0  0 18  0]\n",
      " [ 0  4  2  0  9  4  3  0  2  0  4 14  2 62]]\n",
      "(row=expected, col=predicted)\n"
     ]
    },
    {
     "data": {
      "image/png": "[encoded data removed]",
      "text/plain": [
       "<matplotlib.figure.Figure at 0x71fe92b0>"
      ]
     },
     "metadata": {},
     "output_type": "display_data"
    }
   ],
   "source": [
    "logreg = logreg.fit(train_regressors, train_targets) ### учим регрессию\n",
    "evaluate_prediction(logreg.predict(test_regressors), test_targets, title=str(doc2vec_model)) ###оцениваем результаты\n"
   ]
  },
  {
   "cell_type": "code",
   "execution_count": 410,
   "metadata": {
    "collapsed": false
   },
   "outputs": [
    {
     "data": {
      "text/plain": [
       "array(['Trump', 'Sanders', 'Trump', 'Clinton', 'Trump', 'Sanders', 'Trump',\n",
       "       'Clinton', 'Trump', 'Cruz', 'Trump', 'Clinton', 'Trump', 'Cruz',\n",
       "       'Trump', 'Clinton', 'Clinton'], \n",
       "      dtype='|S10')"
      ]
     },
     "execution_count": 410,
     "metadata": {},
     "output_type": "execute_result"
    }
   ],
   "source": [
    "reg = logreg.predict(ram_regressors)\n",
    "reg"
   ]
  },
  {
   "cell_type": "code",
   "execution_count": 411,
   "metadata": {
    "collapsed": false
   },
   "outputs": [],
   "source": [
    "v = np.asarray(train_regressors)\n",
    "v=pd.DataFrame(v)\n",
    "df.to_csv('class.csv', index=None)"
   ]
  }
 ],
 "metadata": {
  "anaconda-cloud": {},
  "kernelspec": {
   "display_name": "Python [default]",
   "language": "python",
   "name": "python2"
  },
  "language_info": {
   "codemirror_mode": {
    "name": "ipython",
    "version": 2
   },
   "file_extension": ".py",
   "mimetype": "text/x-python",
   "name": "python",
   "nbconvert_exporter": "python",
   "pygments_lexer": "ipython2",
   "version": "2.7.12"
  }
 },
 "nbformat": 4,
 "nbformat_minor": 1
}
